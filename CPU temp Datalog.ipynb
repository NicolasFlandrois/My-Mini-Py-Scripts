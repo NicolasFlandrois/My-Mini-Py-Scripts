{
 "cells": [
  {
   "cell_type": "code",
   "execution_count": 1,
   "metadata": {},
   "outputs": [],
   "source": [
    "#!/usr/bin/python3\n",
    "# -*- coding: utf-8 -*-\n",
    "# Author: Nicolas Flandrois\n",
    "# Date:   Fri 04 dec 2020\n",
    "# virtual environment ecam\n",
    "import psutil\n",
    "from pprint import pprint as pprint\n",
    "from datetime import datetime\n",
    "from time import sleep"
   ]
  },
  {
   "cell_type": "code",
   "execution_count": 2,
   "metadata": {},
   "outputs": [],
   "source": [
    "tmp = (psutil.sensors_temperatures(), datetime.now())\n",
    "pprint(tmp)"
   ]
  },
  {
   "cell_type": "code",
   "execution_count": 3,
   "metadata": {},
   "outputs": [],
   "source": [
    "tmp[0]['coretemp'][0].current"
   ]
  },
  {
   "cell_type": "code",
   "execution_count": 4,
   "metadata": {},
   "outputs": [],
   "source": [
    "tmp[1]"
   ]
  },
  {
   "cell_type": "code",
   "execution_count": 5,
   "metadata": {},
   "outputs": [],
   "source": [
    "log = f'{tmp[1].strftime(\"%Y-%B-%d %H:%M:%S\")} - CPU Temp {tmp[0][\"coretemp\"][0].current}°c'\n",
    "print(log)"
   ]
  },
  {
   "cell_type": "code",
   "execution_count": 6,
   "metadata": {},
   "outputs": [],
   "source": [
    "def log_cpu_tmp():\n",
    "    tmp = (psutil.sensors_temperatures(), datetime.now())\n",
    "    return f'{tmp[1].strftime(\"%Y %B %d %H:%M:%S\")} - CPU Temp {tmp[0][\"coretemp\"][0].current}°c'"
   ]
  },
  {
   "cell_type": "code",
   "execution_count": 7,
   "metadata": {},
   "outputs": [
    {
     "name": "stdout",
     "output_type": "stream",
     "text": [
      "2020 December 04 16:09:59 - CPU Temp 32.0°c\n",
      "2020 December 04 16:10:01 - CPU Temp 30.0°c\n",
      "2020 December 04 16:10:03 - CPU Temp 30.0°c\n",
      "2020 December 04 16:10:05 - CPU Temp 29.0°c\n",
      "2020 December 04 16:10:07 - CPU Temp 30.0°c\n",
      "2020 December 04 16:10:09 - CPU Temp 29.0°c\n",
      "2020 December 04 16:10:11 - CPU Temp 29.0°c\n",
      "2020 December 04 16:10:13 - CPU Temp 29.0°c\n",
      "2020 December 04 16:10:15 - CPU Temp 29.0°c\n",
      "2020 December 04 16:10:17 - CPU Temp 29.0°c\n"
     ]
    }
   ],
   "source": [
    "for _ in range(10):\n",
    "    print(log_cpu_tmp())\n",
    "    sleep(2)"
   ]
  },
  {
   "cell_type": "code",
   "execution_count": null,
   "metadata": {},
   "outputs": [],
   "source": []
  }
 ],
 "metadata": {
  "kernelspec": {
   "display_name": "Python 3",
   "language": "python",
   "name": "python3"
  },
  "language_info": {
   "codemirror_mode": {
    "name": "ipython",
    "version": 3
   },
   "file_extension": ".py",
   "mimetype": "text/x-python",
   "name": "python",
   "nbconvert_exporter": "python",
   "pygments_lexer": "ipython3",
   "version": "3.9.0"
  }
 },
 "nbformat": 4,
 "nbformat_minor": 4
}
